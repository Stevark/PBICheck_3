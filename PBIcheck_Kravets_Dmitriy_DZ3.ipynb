{
  "nbformat": 4,
  "nbformat_minor": 0,
  "metadata": {
    "colab": {
      "name": "PBIcheck - Kravets Dmitriy - DZ3.ipynb",
      "provenance": [],
      "collapsed_sections": [],
      "authorship_tag": "ABX9TyMG+lyfRtQQEpuSFbqBt7Zm",
      "include_colab_link": true
    },
    "kernelspec": {
      "name": "python3",
      "display_name": "Python 3"
    }
  },
  "cells": [
    {
      "cell_type": "markdown",
      "metadata": {
        "id": "view-in-github",
        "colab_type": "text"
      },
      "source": [
        "<a href=\"https://colab.research.google.com/github/Stevark/PBICheck_3/blob/master/PBIcheck_Kravets_Dmitriy_DZ3.ipynb\" target=\"_parent\"><img src=\"https://colab.research.google.com/assets/colab-badge.svg\" alt=\"Open In Colab\"/></a>"
      ]
    },
    {
      "cell_type": "code",
      "metadata": {
        "id": "qUD6vFLNvJS4",
        "colab_type": "code",
        "outputId": "18c0a10b-dc7d-4da6-a06f-526f7773b2e6",
        "colab": {
          "base_uri": "https://localhost:8080/",
          "height": 136
        }
      },
      "source": [
        "link = 'https://haykinanc.github.io/mts_users.io/'\n",
        "import requests\n",
        "from bs4 import BeautifulSoup\n",
        "import pandas as pd\n",
        "import re\n",
        "import math\n",
        "\n",
        "result = requests.get(link)\n",
        "soup = BeautifulSoup(result.content, 'html.parser')\n",
        "result = []\n",
        "#print (soup)\n",
        "\n",
        "root_id = soup.find('div',{\"id\": \"root\"}) # поиск ID Root, где все карточки класса user\n",
        "#print (root_id)\n",
        "for element in root_id.select('.user'): # перебор всех сторок класса user\n",
        "      First_name = element.select('p')[1].text#разбивка по тегу абзаца, через один, пропуская наименования\n",
        "      Last_name = element.select('p')[3].text\n",
        "      Late_pay = element.select('p')[5].text\n",
        "      Time_min_prev_month = element.select('p')[7].text\n",
        "      Time_min_month = element.select('p')[9].text\n",
        "      Options = element.select('p')[11].text\n",
        "      Traffic = element.select('p')[13].text\n",
        "      \n",
        "      lp = 0\n",
        "      if Late_pay == \"ДА\":\n",
        "          lp = 1\n",
        "      else:\n",
        "          lp = 0\n",
        "\n",
        "      z = (0.01 - (0.7 * lp) - (0.00015 * int(Time_min_prev_month)) - (0.00012 * int(Time_min_month)) - (0.00013 * int(Options)) - (0.00022 * int(Traffic)))\n",
        "      print(z) # сверял кооэфициент, т.к. в BI получились слегка другие данные, судя по всему из-за вычисления экспоненты. Коффциенты идентичны.\n",
        "      chance_outflow = math.exp(z) / (1 + math.exp(z))\n",
        "      result.append({ \n",
        "        'Имя': First_name,\n",
        "        'Фамилия': Last_name,\n",
        "        'Наличие просрочки по платежам': Late_pay,\n",
        "        'Продолжительность разговоров в прошлом месяце в минутах': Time_min_prev_month,\n",
        "        'Продолжительность разговоров в этом месяце в минутах': Time_min_month,\n",
        "        'Количество подключенных новых опций в штуках': Options,\n",
        "        'Исходящий трафик в мегабайтах за этот месяц': Traffic,\n",
        "        'Вероятность оттока': chance_outflow\n",
        "      })\n",
        "#print (*result,sep='\\n')\n",
        "df_data = pd.DataFrame(result)\n",
        "df_data.head(30)\n",
        "df_data.to_csv('out1.csv', encoding=\"cp1251\") #кодировка, иначе кириллица криво отображается в CSV"
      ],
      "execution_count": 0,
      "outputs": [
        {
          "output_type": "stream",
          "text": [
            "-1.90132\n",
            "-1.01991\n",
            "-1.76743\n",
            "-1.03328\n",
            "-1.50917\n",
            "-2.40528\n",
            "-1.12619\n"
          ],
          "name": "stdout"
        }
      ]
    },
    {
      "cell_type": "code",
      "metadata": {
        "id": "HPnwnTIiwPlG",
        "colab_type": "code",
        "colab": {}
      },
      "source": [
        ""
      ],
      "execution_count": 0,
      "outputs": []
    },
    {
      "cell_type": "markdown",
      "metadata": {
        "id": "6ibPDZQWwOkk",
        "colab_type": "text"
      },
      "source": [
        ""
      ]
    }
  ]
}